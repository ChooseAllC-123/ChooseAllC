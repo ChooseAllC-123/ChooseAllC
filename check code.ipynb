{
 "cells": [
  {
   "cell_type": "code",
   "execution_count": 4,
   "id": "13d9f70c-32cc-4ac3-9f33-5f155b0f6043",
   "metadata": {},
   "outputs": [
    {
     "name": "stdout",
     "output_type": "stream",
     "text": [
      "Raw event details string:\n",
      "'Infection, coronavirus, novel coronavirus; Infection, coronavirus, novel coronavirus prophylaxis\\nTherapeutic vaccine, anti-infective\\nSpain; Infection, respiratory tract, upper\\nInfection, Haemophilus influenzae prophylaxis; Infection, Klebsiella prophylaxis; Infection, pneumonia, community-acquired; Infection, respiratory tract, lower; Infection, rhinovirus; Infection, staphylococcal prophylaxis; Otitis media; Sinusitis; Tonsillitis; No Development Reported\\nPhase II/III Clinical Trial\\nTonsillitis\\nSinusitis\\nOtitis media\\nInfection, pneumonia, community-acquired\\nInfection, respiratory-tract, lower\\nInfection, rhinovirus\\nInfection, staphylococcal prophylaxis\\nInfection, klebsiella prophylaxis\\nInfection, Haemophilus influenzae prophylaxis'\n"
     ]
    }
   ],
   "source": [
    "import pandas as pd\n",
    "file_path = r\"C:\\Users\\yizho\\Downloads\\81831.xlsx\"\n",
    "df = pd.read_excel(file_path)\n",
    "\n",
    "# Pick a specific cell, e.g., row 2 (index 1) from column 6 (event details)\n",
    "raw_text = str(df.iloc[0, 5])  # Row 2 in Excel = index 0 in pandas\n",
    "print(\"Raw event details string:\")\n",
    "print(repr(raw_text))"
   ]
  },
  {
   "cell_type": "code",
   "execution_count": null,
   "id": "b9239886-5a50-443c-8bb5-a148d4d62b6d",
   "metadata": {},
   "outputs": [],
   "source": []
  }
 ],
 "metadata": {
  "kernelspec": {
   "display_name": "Python 3 (ipykernel)",
   "language": "python",
   "name": "python3"
  },
  "language_info": {
   "codemirror_mode": {
    "name": "ipython",
    "version": 3
   },
   "file_extension": ".py",
   "mimetype": "text/x-python",
   "name": "python",
   "nbconvert_exporter": "python",
   "pygments_lexer": "ipython3",
   "version": "3.12.7"
  }
 },
 "nbformat": 4,
 "nbformat_minor": 5
}
