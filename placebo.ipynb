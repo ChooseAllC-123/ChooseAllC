{
 "cells": [
  {
   "cell_type": "code",
   "execution_count": 54,
   "id": "14a0e903-d54a-4d8b-842c-afba98165ad5",
   "metadata": {},
   "outputs": [
    {
     "name": "stdout",
     "output_type": "stream",
     "text": [
      "Number of observations: 866\n"
     ]
    },
    {
     "name": "stderr",
     "output_type": "stream",
     "text": [
      "C:\\Users\\yizho\\AppData\\Local\\Temp\\ipykernel_836\\3504412354.py:17: SettingWithCopyWarning: \n",
      "A value is trying to be set on a copy of a slice from a DataFrame.\n",
      "Try using .loc[row_indexer,col_indexer] = value instead\n",
      "\n",
      "See the caveats in the documentation: https://pandas.pydata.org/pandas-docs/stable/user_guide/indexing.html#returning-a-view-versus-a-copy\n",
      "  filtered_data.loc[:, 'mltreat'] = (filtered_data['year']>2016).astype(int)\n",
      "C:\\Users\\yizho\\AppData\\Local\\Temp\\ipykernel_836\\3504412354.py:19: SettingWithCopyWarning: \n",
      "A value is trying to be set on a copy of a slice from a DataFrame.\n",
      "Try using .loc[row_indexer,col_indexer] = value instead\n",
      "\n",
      "See the caveats in the documentation: https://pandas.pydata.org/pandas-docs/stable/user_guide/indexing.html#returning-a-view-versus-a-copy\n",
      "  filtered_data['mltreat'] = filtered_data['mltreat'].astype(int)\n"
     ]
    }
   ],
   "source": [
    "import pandas as pd\n",
    "import numpy as np\n",
    "import matplotlib.pyplot as plt\n",
    "from sklearn.ensemble import RandomForestRegressor\n",
    "from sklearn.utils import resample\n",
    "from econml.dml import LinearDML\n",
    "from sklearn.ensemble import RandomForestRegressor\n",
    "from sklearn.ensemble import RandomForestClassifier\n",
    "from sklearn.linear_model import LogisticRegression\n",
    "from econml.dml import DML\n",
    "from sklearn.linear_model import Lasso\n",
    "## ML Treatment\n",
    "file_path = 'F:/PhD/2nd Year Paper/Data/filtered_data.csv'  # Update this to the correct path if needed\n",
    "data = pd.read_csv(file_path)\n",
    "placebo_data = filtered_data[filtered_data['year'] < 2019].copy()\n",
    "filtered_data = data.dropna(subset=['hexpf_adjusted'])\n",
    "filtered_data.loc[:, 'mltreat'] = (filtered_data['year']>2016).astype(int)\n",
    "filtered_data.loc[:, 'year'] = pd.to_numeric(filtered_data['year'], errors='coerce')  # Convert year to numeric\n",
    "filtered_data['mltreat'] = filtered_data['mltreat'].astype(int)\n",
    "print(\"Number of observations:\", filtered_data.shape[0])"
   ]
  },
  {
   "cell_type": "code",
   "execution_count": 60,
   "id": "034276aa-df02-4065-abe8-f246a2bca4bc",
   "metadata": {},
   "outputs": [
    {
     "name": "stdout",
     "output_type": "stream",
     "text": [
      "\n",
      "=== Placebo Year: 2013 ===\n"
     ]
    },
    {
     "name": "stderr",
     "output_type": "stream",
     "text": [
      "D:\\anaconda\\Lib\\site-packages\\sklearn\\linear_model\\_logistic.py:469: ConvergenceWarning: lbfgs failed to converge (status=1):\n",
      "STOP: TOTAL NO. of ITERATIONS REACHED LIMIT.\n",
      "\n",
      "Increase the number of iterations (max_iter) or scale the data as shown in:\n",
      "    https://scikit-learn.org/stable/modules/preprocessing.html\n",
      "Please also refer to the documentation for alternative solver options:\n",
      "    https://scikit-learn.org/stable/modules/linear_model.html#logistic-regression\n",
      "  n_iter_i = _check_optimize_result(\n",
      "D:\\anaconda\\Lib\\site-packages\\sklearn\\linear_model\\_logistic.py:469: ConvergenceWarning: lbfgs failed to converge (status=1):\n",
      "STOP: TOTAL NO. of ITERATIONS REACHED LIMIT.\n",
      "\n",
      "Increase the number of iterations (max_iter) or scale the data as shown in:\n",
      "    https://scikit-learn.org/stable/modules/preprocessing.html\n",
      "Please also refer to the documentation for alternative solver options:\n",
      "    https://scikit-learn.org/stable/modules/linear_model.html#logistic-regression\n",
      "  n_iter_i = _check_optimize_result(\n"
     ]
    },
    {
     "name": "stdout",
     "output_type": "stream",
     "text": [
      "ATE: 41.6117\n",
      "95% CI: [-24.6743, 107.8978]\n",
      "Standard Error: 33.8194\n",
      "\n",
      "=== Placebo Year: 2014 ===\n"
     ]
    },
    {
     "name": "stderr",
     "output_type": "stream",
     "text": [
      "D:\\anaconda\\Lib\\site-packages\\sklearn\\linear_model\\_logistic.py:469: ConvergenceWarning: lbfgs failed to converge (status=1):\n",
      "STOP: TOTAL NO. of ITERATIONS REACHED LIMIT.\n",
      "\n",
      "Increase the number of iterations (max_iter) or scale the data as shown in:\n",
      "    https://scikit-learn.org/stable/modules/preprocessing.html\n",
      "Please also refer to the documentation for alternative solver options:\n",
      "    https://scikit-learn.org/stable/modules/linear_model.html#logistic-regression\n",
      "  n_iter_i = _check_optimize_result(\n"
     ]
    },
    {
     "name": "stdout",
     "output_type": "stream",
     "text": [
      "ATE: 47.5881\n",
      "95% CI: [-43.8140, 138.9902]\n",
      "Standard Error: 46.6337\n",
      "\n",
      "=== Placebo Year: 2015 ===\n"
     ]
    },
    {
     "name": "stderr",
     "output_type": "stream",
     "text": [
      "D:\\anaconda\\Lib\\site-packages\\sklearn\\linear_model\\_logistic.py:469: ConvergenceWarning: lbfgs failed to converge (status=1):\n",
      "STOP: TOTAL NO. of ITERATIONS REACHED LIMIT.\n",
      "\n",
      "Increase the number of iterations (max_iter) or scale the data as shown in:\n",
      "    https://scikit-learn.org/stable/modules/preprocessing.html\n",
      "Please also refer to the documentation for alternative solver options:\n",
      "    https://scikit-learn.org/stable/modules/linear_model.html#logistic-regression\n",
      "  n_iter_i = _check_optimize_result(\n",
      "D:\\anaconda\\Lib\\site-packages\\sklearn\\linear_model\\_logistic.py:469: ConvergenceWarning: lbfgs failed to converge (status=1):\n",
      "STOP: TOTAL NO. of ITERATIONS REACHED LIMIT.\n",
      "\n",
      "Increase the number of iterations (max_iter) or scale the data as shown in:\n",
      "    https://scikit-learn.org/stable/modules/preprocessing.html\n",
      "Please also refer to the documentation for alternative solver options:\n",
      "    https://scikit-learn.org/stable/modules/linear_model.html#logistic-regression\n",
      "  n_iter_i = _check_optimize_result(\n"
     ]
    },
    {
     "name": "stdout",
     "output_type": "stream",
     "text": [
      "ATE: 13.0204\n",
      "95% CI: [-101.8452, 127.8860]\n",
      "Standard Error: 58.6049\n",
      "\n",
      "=== Placebo Year: 2016 ===\n"
     ]
    },
    {
     "name": "stderr",
     "output_type": "stream",
     "text": [
      "D:\\anaconda\\Lib\\site-packages\\sklearn\\linear_model\\_logistic.py:469: ConvergenceWarning: lbfgs failed to converge (status=1):\n",
      "STOP: TOTAL NO. of ITERATIONS REACHED LIMIT.\n",
      "\n",
      "Increase the number of iterations (max_iter) or scale the data as shown in:\n",
      "    https://scikit-learn.org/stable/modules/preprocessing.html\n",
      "Please also refer to the documentation for alternative solver options:\n",
      "    https://scikit-learn.org/stable/modules/linear_model.html#logistic-regression\n",
      "  n_iter_i = _check_optimize_result(\n"
     ]
    },
    {
     "name": "stdout",
     "output_type": "stream",
     "text": [
      "ATE: 10.4902\n",
      "95% CI: [-93.2500, 114.2304]\n",
      "Standard Error: 52.9287\n",
      "\n",
      "=== Placebo Year: 2017 ===\n"
     ]
    },
    {
     "name": "stderr",
     "output_type": "stream",
     "text": [
      "D:\\anaconda\\Lib\\site-packages\\sklearn\\linear_model\\_logistic.py:469: ConvergenceWarning: lbfgs failed to converge (status=1):\n",
      "STOP: TOTAL NO. of ITERATIONS REACHED LIMIT.\n",
      "\n",
      "Increase the number of iterations (max_iter) or scale the data as shown in:\n",
      "    https://scikit-learn.org/stable/modules/preprocessing.html\n",
      "Please also refer to the documentation for alternative solver options:\n",
      "    https://scikit-learn.org/stable/modules/linear_model.html#logistic-regression\n",
      "  n_iter_i = _check_optimize_result(\n"
     ]
    },
    {
     "name": "stdout",
     "output_type": "stream",
     "text": [
      "ATE: 91.4010\n",
      "95% CI: [-57.3985, 240.2004]\n",
      "Standard Error: 75.9181\n"
     ]
    }
   ],
   "source": [
    "import pandas as pd\n",
    "import numpy as np\n",
    "from sklearn.ensemble import RandomForestRegressor\n",
    "from sklearn.linear_model import LogisticRegression\n",
    "from econml.dml import CausalForestDML\n",
    "\n",
    "# Load and prepare data\n",
    "file_path = 'F:/PhD/2nd Year Paper/Data/filtered_data.csv'\n",
    "data = pd.read_csv(file_path)\n",
    "data = data.dropna(subset=['hexpf_adjusted'])\n",
    "data['year'] = pd.to_numeric(data['year'], errors='coerce')\n",
    "data['special'] = data['name'].str.lower().isin(['beijing', 'tianjin', 'shanghai', 'chongqing', 'fujian', 'hebei']).astype(int)\n",
    "data = data[data['special'] == 0].copy()\n",
    "data = data.sort_values(by=['name', 'year']).reset_index(drop=True)\n",
    "\n",
    "# Generate lag variables\n",
    "lag_vars = ['hexpf_adjusted', 'hos_num', 'gdp_adjusted', 'population', 'annual_patient']\n",
    "for var in lag_vars:\n",
    "    data[f'{var}_lag1'] = data.groupby('name')[var].shift(1)\n",
    "\n",
    "# Drop rows with missing lags\n",
    "data = data.dropna(subset=[f'{v}_lag1' for v in lag_vars])\n",
    "\n",
    "# List of placebo treatment years\n",
    "placebo_years = list(range(2013, 2018))\n",
    "\n",
    "data_placebo = data[data['year'] < 2019].copy()\n",
    "\n",
    "# Run placebo tests\n",
    "for placebo_year in placebo_years:\n",
    "    print(f\"\\n=== Placebo Year: {placebo_year} ===\")\n",
    "\n",
    "    df = data_placebo.copy()\n",
    "    df['mltreat'] = (df['year'] > placebo_year).astype(int)\n",
    "\n",
    "    Y = df['hexpf_adjusted']\n",
    "    T = df['mltreat']\n",
    "\n",
    "    # Build covariates\n",
    "    lagged_columns = [f'{v}_lag1' for v in ['hexpf_adjusted', 'hos_num', 'gdp_adjusted', 'population', 'annual_patient']]\n",
    "    X_cont = df[['hos_num', 'gdp_adjusted', 'population', 'annual_patient'] + lagged_columns]\n",
    "    X_cat = pd.get_dummies(df[['name', 'year']].astype(str), drop_first=True)\n",
    "\n",
    "    X_y = pd.concat([X_cont, X_cat], axis=1)\n",
    "    X_t = pd.concat([X_cont, X_cat.drop(columns=[col for col in X_cat.columns if col.startswith('year_')])], axis=1)\n",
    "\n",
    "    # Fit Causal Forest DML\n",
    "    model_y = RandomForestRegressor(n_estimators=100, max_depth=5, random_state=42)\n",
    "    model_t = LogisticRegression(penalty='l2', solver='lbfgs', max_iter=500, random_state=42)\n",
    "\n",
    "    cf_dml = CausalForestDML(\n",
    "        model_y=model_y,\n",
    "        model_t=model_t,\n",
    "        discrete_treatment=True,\n",
    "        n_estimators=100,\n",
    "        min_samples_leaf=5,\n",
    "        max_depth=10,\n",
    "        random_state=42,\n",
    "        cv=2\n",
    "    )\n",
    "\n",
    "    cf_dml.fit(Y, T, X=X_y, W=X_t)\n",
    "\n",
    "    # Estimate ATE and CI\n",
    "    ate = cf_dml.ate(X=X_y)\n",
    "    lb, ub = cf_dml.ate_interval(X=X_y)\n",
    "    stderr = (ub - lb) / (2 * 1.96)\n",
    "\n",
    "    # Print results\n",
    "    print(f\"ATE: {ate:.4f}\")\n",
    "    print(f\"95% CI: [{lb:.4f}, {ub:.4f}]\")\n",
    "    print(f\"Standard Error: {stderr:.4f}\")\n"
   ]
  },
  {
   "cell_type": "markdown",
   "id": "81794b42-7dd3-4379-a554-38146943eeb3",
   "metadata": {},
   "source": [
    "# Counterfactual"
   ]
  },
  {
   "cell_type": "code",
   "execution_count": 17,
   "id": "6cf65f87-1007-47b8-9b3b-a0366047802c",
   "metadata": {},
   "outputs": [
    {
     "name": "stdout",
     "output_type": "stream",
     "text": [
      "Number of observations: 866\n"
     ]
    },
    {
     "name": "stderr",
     "output_type": "stream",
     "text": [
      "C:\\Users\\yizho\\AppData\\Local\\Temp\\ipykernel_836\\102907358.py:16: SettingWithCopyWarning: \n",
      "A value is trying to be set on a copy of a slice from a DataFrame.\n",
      "Try using .loc[row_indexer,col_indexer] = value instead\n",
      "\n",
      "See the caveats in the documentation: https://pandas.pydata.org/pandas-docs/stable/user_guide/indexing.html#returning-a-view-versus-a-copy\n",
      "  filtered_data.loc[:, 'mltreat'] = (filtered_data['year']>2017).astype(int)\n",
      "C:\\Users\\yizho\\AppData\\Local\\Temp\\ipykernel_836\\102907358.py:18: SettingWithCopyWarning: \n",
      "A value is trying to be set on a copy of a slice from a DataFrame.\n",
      "Try using .loc[row_indexer,col_indexer] = value instead\n",
      "\n",
      "See the caveats in the documentation: https://pandas.pydata.org/pandas-docs/stable/user_guide/indexing.html#returning-a-view-versus-a-copy\n",
      "  filtered_data['mltreat'] = filtered_data['mltreat'].astype(int)\n"
     ]
    }
   ],
   "source": [
    "import pandas as pd\n",
    "import numpy as np\n",
    "import matplotlib.pyplot as plt\n",
    "from sklearn.ensemble import RandomForestRegressor\n",
    "from sklearn.utils import resample\n",
    "from econml.dml import LinearDML\n",
    "from sklearn.ensemble import RandomForestRegressor\n",
    "from sklearn.ensemble import RandomForestClassifier\n",
    "from sklearn.linear_model import LogisticRegression\n",
    "from econml.dml import DML\n",
    "from sklearn.linear_model import Lasso\n",
    "## ML Treatment\n",
    "file_path = 'F:/PhD/2nd Year Paper/Data/filtered_data.csv'  # Update this to the correct path if needed\n",
    "data = pd.read_csv(file_path)\n",
    "filtered_data = data.dropna(subset=['hexpf_adjusted'])\n",
    "filtered_data.loc[:, 'mltreat'] = (filtered_data['year']>2017).astype(int)\n",
    "filtered_data.loc[:, 'year'] = pd.to_numeric(filtered_data['year'], errors='coerce')  # Convert year to numeric\n",
    "filtered_data['mltreat'] = filtered_data['mltreat'].astype(int)\n",
    "print(\"Number of observations:\", filtered_data.shape[0])"
   ]
  },
  {
   "cell_type": "code",
   "execution_count": 18,
   "id": "70e5ba8b-1c81-428d-a577-9ad1a607373a",
   "metadata": {},
   "outputs": [
    {
     "name": "stdout",
     "output_type": "stream",
     "text": [
      "Number of observations: 700\n"
     ]
    },
    {
     "name": "stderr",
     "output_type": "stream",
     "text": [
      "C:\\Users\\yizho\\AppData\\Local\\Temp\\ipykernel_836\\3245201112.py:6: SettingWithCopyWarning: \n",
      "A value is trying to be set on a copy of a slice from a DataFrame.\n",
      "Try using .loc[row_indexer,col_indexer] = value instead\n",
      "\n",
      "See the caveats in the documentation: https://pandas.pydata.org/pandas-docs/stable/user_guide/indexing.html#returning-a-view-versus-a-copy\n",
      "  filtered_data['special'] = filtered_data['name'].str.lower().isin(special_provinces).astype(int)\n"
     ]
    }
   ],
   "source": [
    "# Load your actual dataset here\n",
    "# filtered_data = pd.read_csv(\"your_data.csv\")\n",
    "\n",
    "# Mark special provinces\n",
    "special_provinces = ['beijing', 'tianjin', 'shanghai', 'chongqing', 'fujian', 'hebei']\n",
    "filtered_data['special'] = filtered_data['name'].str.lower().isin(special_provinces).astype(int)\n",
    "\n",
    "# Drop the special provinces\n",
    "filtered_data = filtered_data[filtered_data['special'] == 0].copy()\n",
    "\n",
    "# Proceed with sorting\n",
    "filtered_data = filtered_data.sort_values(by=['name', 'year']).reset_index(drop=True)\n",
    "print(\"Number of observations:\", filtered_data.shape[0])"
   ]
  },
  {
   "cell_type": "code",
   "execution_count": 19,
   "id": "a5daee20-71a3-4c86-a39b-eb7fa0f6fee3",
   "metadata": {},
   "outputs": [
    {
     "name": "stdout",
     "output_type": "stream",
     "text": [
      "Number of observations: 475\n"
     ]
    }
   ],
   "source": [
    "lag_vars = ['hexpf_adjusted', 'hos_num', 'annual_patient', 'gdp_adjusted', 'population']\n",
    "for var in lag_vars:\n",
    "    filtered_data[f'{var}_lag1'] = filtered_data.groupby('name')[var].shift(1)\n",
    "\n",
    "# Drop rows with missing lags\n",
    "filtered_data = filtered_data.dropna(subset=[f'{v}_lag1' for v in lag_vars])\n",
    "\n",
    "print(\"Number of observations:\", filtered_data.shape[0])"
   ]
  },
  {
   "cell_type": "code",
   "execution_count": 20,
   "id": "459e6e58-7b05-4aa4-a17c-9df2141eac58",
   "metadata": {},
   "outputs": [],
   "source": [
    "# STEP 2: Split data\n",
    "train_data = filtered_data[filtered_data['year'] < 2018].copy()\n",
    "test_2020 = filtered_data[filtered_data['year'] >= 2018].copy()\n",
    "\n",
    "\n",
    "# STEP 3: Create features\n",
    "X_train = pd.concat([\n",
    "    train_data[[f'{v}_lag1' for v in lag_vars]].copy(),\n",
    "    train_data[['hos_num', 'annual_patient', 'gdp_adjusted', 'population', 'year']],\n",
    "    pd.get_dummies(train_data['name'], drop_first=True)\n",
    "], axis=1)\n",
    "y_train = train_data['hexpf_adjusted']\n",
    "\n",
    "X_2020 = pd.concat([\n",
    "    test_2020[[f'{v}_lag1' for v in lag_vars]].copy(),\n",
    "    test_2020[['hos_num', 'annual_patient', 'gdp_adjusted', 'population', 'year']],\n",
    "    pd.get_dummies(test_2020['name'], drop_first=True)\n",
    "], axis=1)\n",
    "X_2020 = X_2020.reindex(columns=X_train.columns, fill_value=0)\n",
    "\n",
    "# STEP 4: Bootstrap prediction intervals\n",
    "n_boot = 100\n",
    "all_preds = []\n",
    "\n",
    "for _ in range(n_boot):\n",
    "    boot_train = train_data.sample(frac=1.0, replace=True)\n",
    "    Xb = pd.concat([\n",
    "        boot_train[[f'{v}_lag1' for v in lag_vars]].copy(),\n",
    "        boot_train[['hos_num', 'annual_patient', 'gdp_adjusted', 'population', 'year']],\n",
    "    pd.get_dummies(boot_train['name'], drop_first=True)\n",
    "    ], axis=1)\n",
    "    yb = boot_train['hexpf_adjusted']\n",
    "    Xb = Xb.reindex(columns=X_train.columns, fill_value=0)\n",
    "\n",
    "    model = RandomForestRegressor(n_estimators=100, max_depth=5, random_state=None)\n",
    "    model.fit(Xb, yb)\n",
    "    pred_2020 = model.predict(X_2020)\n",
    "    all_preds.append(pred_2020)\n",
    "\n",
    "# STEP 5: Compute prediction means and intervals\n",
    "all_preds = np.array(all_preds)\n",
    "test_2020['pred_mean'] = all_preds.mean(axis=0)\n",
    "test_2020['pred_lower'] = np.percentile(all_preds, 2.5, axis=0)\n",
    "test_2020['pred_upper'] = np.percentile(all_preds, 97.5, axis=0)\n",
    "\n",
    "\n",
    "# STEP 6: Treatment effect and CI\n",
    "test_2020['treatment_effect'] = test_2020['hexpf_adjusted'] - test_2020['pred_mean']\n",
    "test_2020['effect_ci_lower'] = test_2020['hexpf_adjusted'] - test_2020['pred_upper']\n",
    "test_2020['effect_ci_upper'] = test_2020['hexpf_adjusted'] - test_2020['pred_lower']\n",
    "test_2020['treatment_stderr'] = (test_2020['effect_ci_upper'] - test_2020['effect_ci_lower']) / (2 * 1.96)"
   ]
  },
  {
   "cell_type": "code",
   "execution_count": 21,
   "id": "5cb12a59-fe2d-43f9-bfcb-c96cb5ddeee7",
   "metadata": {},
   "outputs": [
    {
     "name": "stdout",
     "output_type": "stream",
     "text": [
      "National ATE (Year ≥ 2020): 86.16\n",
      "Standard Error of National ATE: 5.67\n",
      "95% CI: [75.05, 97.27]\n"
     ]
    },
    {
     "data": {
      "image/png": "[encoded data removed]",
      "text/plain": [
       "<Figure size 1200x600 with 1 Axes>"
      ]
     },
     "metadata": {},
     "output_type": "display_data"
    }
   ],
   "source": [
    "# National ATE and SE\n",
    "national_ate = test_2020['treatment_effect'].mean()\n",
    "national_se = (test_2020['treatment_stderr']**2).mean()**0.5 / (len(pltdat)**0.5)\n",
    "ci_lower = national_ate - 1.96 * national_se\n",
    "ci_upper = national_ate + 1.96 * national_se\n",
    "\n",
    "print(f\"National ATE (Year ≥ 2020): {national_ate:.2f}\")\n",
    "print(f\"Standard Error of National ATE: {national_se:.2f}\")\n",
    "\n",
    "print(f\"95% CI: [{ci_lower:.2f}, {ci_upper:.2f}]\")\n",
    "\n",
    "# STEP 7: Group by province and summarize\n",
    "plot_df = (\n",
    "    test_2020.groupby('name')[['treatment_effect', 'effect_ci_lower', 'effect_ci_upper']]\n",
    "    .mean()\n",
    "    .reset_index()\n",
    "    .sort_values(by='name')\n",
    ")\n",
    "\n",
    "# STEP 8: Plot\n",
    "plt.figure(figsize=(12, 6))\n",
    "plt.errorbar(\n",
    "    plot_df['name'],\n",
    "    plot_df['treatment_effect'],\n",
    "    yerr=[plot_df['treatment_effect'] - plot_df['effect_ci_lower'],\n",
    "          plot_df['effect_ci_upper'] - plot_df['treatment_effect']],\n",
    "    fmt='o', capsize=4, ecolor='gray'\n",
    ")\n",
    "plt.axhline(0, color='red', linestyle='--')\n",
    "plt.xticks(rotation=90)\n",
    "plt.title(\"ATE by Province (2020) with Bootstrapped Prediction Intervals\")\n",
    "plt.ylabel(\"Average Treatment Effect (Observed - Predicted)\")\n",
    "plt.tight_layout()\n",
    "plt.show()"
   ]
  },
  {
   "cell_type": "code",
   "execution_count": null,
   "id": "1cb7d0a4-b197-4929-8aef-a4f92d75bde3",
   "metadata": {},
   "outputs": [],
   "source": []
  }
 ],
 "metadata": {
  "kernelspec": {
   "display_name": "Python [conda env:base] *",
   "language": "python",
   "name": "conda-base-py"
  },
  "language_info": {
   "codemirror_mode": {
    "name": "ipython",
    "version": 3
   },
   "file_extension": ".py",
   "mimetype": "text/x-python",
   "name": "python",
   "nbconvert_exporter": "python",
   "pygments_lexer": "ipython3",
   "version": "3.12.7"
  }
 },
 "nbformat": 4,
 "nbformat_minor": 5
}
